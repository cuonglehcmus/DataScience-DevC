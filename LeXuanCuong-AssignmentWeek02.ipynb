{
 "cells": [
  {
   "cell_type": "markdown",
   "metadata": {
    "colab_type": "text",
    "id": "kL9VPYin9nOD"
   },
   "source": [
    "![](https://i.imgur.com/0AUxkXt.png)\n",
    "\n",
    "# SF Salaries Exercise \n",
    "\n",
    "Explore San Francisco city employee salary data.\n",
    "\n",
    "## Overview\n",
    "\n",
    "One way to understand how a city government works is by looking at who it employs and how its employees are compensated. This data contains the names, job title, and compensation for San Francisco city employees on an annual basis from 2011 to 2014.\n",
    "\n",
    "\n",
    "\n",
    "Just follow along and complete the tasks outlined in bold below. The tasks will get harder and harder as you go along.\n",
    "\n",
    "## Resourses\n",
    "\n",
    "[Pandas API Reference](https://pandas.pydata.org/pandas-docs/stable/api.html)\n",
    "\n",
    "[NumPy Reference](https://docs.scipy.org/doc/numpy/reference/)\n",
    "\n",
    "[Visualization with Seaborn](https://jakevdp.github.io/PythonDataScienceHandbook/04.14-visualization-with-seaborn.html)\n"
   ]
  },
  {
   "cell_type": "markdown",
   "metadata": {
    "colab_type": "text",
    "id": "ueY1PMBl9nOF"
   },
   "source": [
    "**Import libraries**"
   ]
  },
  {
   "cell_type": "code",
   "execution_count": 2,
   "metadata": {
    "colab": {},
    "colab_type": "code",
    "id": "dnwk5LCx9nOG"
   },
   "outputs": [],
   "source": [
    "import pandas as pd \n",
    "import seaborn as sb"
   ]
  },
  {
   "cell_type": "markdown",
   "metadata": {
    "colab_type": "text",
    "id": "jiOt1hEM9nOJ"
   },
   "source": [
    "**Read `Salaries.csv` as a dataframe called `sal`.**"
   ]
  },
  {
   "cell_type": "code",
   "execution_count": 3,
   "metadata": {
    "colab": {},
    "colab_type": "code",
    "id": "FtA68BoY9nOJ"
   },
   "outputs": [],
   "source": [
    "# link = \"https://s3-ap-southeast-1.amazonaws.com/intro-to-ml-minhdh/Salaries.csv\"\n",
    "sal = pd.read_csv(\"https://s3-ap-southeast-1.amazonaws.com/intro-to-ml-minhdh/Salaries.csv\")"
   ]
  },
  {
   "cell_type": "markdown",
   "metadata": {
    "colab_type": "text",
    "id": "QW6hV4iv9nOM"
   },
   "source": [
    "**Check the head of the DataFrame.**"
   ]
  },
  {
   "cell_type": "code",
   "execution_count": 4,
   "metadata": {
    "colab": {},
    "colab_type": "code",
    "id": "oa2JHHJ99nON"
   },
   "outputs": [
    {
     "data": {
      "text/html": [
       "<div>\n",
       "<style scoped>\n",
       "    .dataframe tbody tr th:only-of-type {\n",
       "        vertical-align: middle;\n",
       "    }\n",
       "\n",
       "    .dataframe tbody tr th {\n",
       "        vertical-align: top;\n",
       "    }\n",
       "\n",
       "    .dataframe thead th {\n",
       "        text-align: right;\n",
       "    }\n",
       "</style>\n",
       "<table border=\"1\" class=\"dataframe\">\n",
       "  <thead>\n",
       "    <tr style=\"text-align: right;\">\n",
       "      <th></th>\n",
       "      <th>Id</th>\n",
       "      <th>EmployeeName</th>\n",
       "      <th>JobTitle</th>\n",
       "      <th>BasePay</th>\n",
       "      <th>OvertimePay</th>\n",
       "      <th>OtherPay</th>\n",
       "      <th>Benefits</th>\n",
       "      <th>TotalPay</th>\n",
       "      <th>TotalPayBenefits</th>\n",
       "      <th>Year</th>\n",
       "      <th>Notes</th>\n",
       "      <th>Agency</th>\n",
       "      <th>Status</th>\n",
       "    </tr>\n",
       "  </thead>\n",
       "  <tbody>\n",
       "    <tr>\n",
       "      <th>0</th>\n",
       "      <td>1</td>\n",
       "      <td>NATHANIEL FORD</td>\n",
       "      <td>GENERAL MANAGER-METROPOLITAN TRANSIT AUTHORITY</td>\n",
       "      <td>167411.18</td>\n",
       "      <td>0.00</td>\n",
       "      <td>400184.25</td>\n",
       "      <td>NaN</td>\n",
       "      <td>567595.43</td>\n",
       "      <td>567595.43</td>\n",
       "      <td>2011</td>\n",
       "      <td>NaN</td>\n",
       "      <td>San Francisco</td>\n",
       "      <td>NaN</td>\n",
       "    </tr>\n",
       "    <tr>\n",
       "      <th>1</th>\n",
       "      <td>2</td>\n",
       "      <td>GARY JIMENEZ</td>\n",
       "      <td>CAPTAIN III (POLICE DEPARTMENT)</td>\n",
       "      <td>155966.02</td>\n",
       "      <td>245131.88</td>\n",
       "      <td>137811.38</td>\n",
       "      <td>NaN</td>\n",
       "      <td>538909.28</td>\n",
       "      <td>538909.28</td>\n",
       "      <td>2011</td>\n",
       "      <td>NaN</td>\n",
       "      <td>San Francisco</td>\n",
       "      <td>NaN</td>\n",
       "    </tr>\n",
       "    <tr>\n",
       "      <th>2</th>\n",
       "      <td>3</td>\n",
       "      <td>ALBERT PARDINI</td>\n",
       "      <td>CAPTAIN III (POLICE DEPARTMENT)</td>\n",
       "      <td>212739.13</td>\n",
       "      <td>106088.18</td>\n",
       "      <td>16452.60</td>\n",
       "      <td>NaN</td>\n",
       "      <td>335279.91</td>\n",
       "      <td>335279.91</td>\n",
       "      <td>2011</td>\n",
       "      <td>NaN</td>\n",
       "      <td>San Francisco</td>\n",
       "      <td>NaN</td>\n",
       "    </tr>\n",
       "    <tr>\n",
       "      <th>3</th>\n",
       "      <td>4</td>\n",
       "      <td>CHRISTOPHER CHONG</td>\n",
       "      <td>WIRE ROPE CABLE MAINTENANCE MECHANIC</td>\n",
       "      <td>77916.00</td>\n",
       "      <td>56120.71</td>\n",
       "      <td>198306.90</td>\n",
       "      <td>NaN</td>\n",
       "      <td>332343.61</td>\n",
       "      <td>332343.61</td>\n",
       "      <td>2011</td>\n",
       "      <td>NaN</td>\n",
       "      <td>San Francisco</td>\n",
       "      <td>NaN</td>\n",
       "    </tr>\n",
       "    <tr>\n",
       "      <th>4</th>\n",
       "      <td>5</td>\n",
       "      <td>PATRICK GARDNER</td>\n",
       "      <td>DEPUTY CHIEF OF DEPARTMENT,(FIRE DEPARTMENT)</td>\n",
       "      <td>134401.60</td>\n",
       "      <td>9737.00</td>\n",
       "      <td>182234.59</td>\n",
       "      <td>NaN</td>\n",
       "      <td>326373.19</td>\n",
       "      <td>326373.19</td>\n",
       "      <td>2011</td>\n",
       "      <td>NaN</td>\n",
       "      <td>San Francisco</td>\n",
       "      <td>NaN</td>\n",
       "    </tr>\n",
       "  </tbody>\n",
       "</table>\n",
       "</div>"
      ],
      "text/plain": [
       "   Id       EmployeeName                                        JobTitle  \\\n",
       "0   1     NATHANIEL FORD  GENERAL MANAGER-METROPOLITAN TRANSIT AUTHORITY   \n",
       "1   2       GARY JIMENEZ                 CAPTAIN III (POLICE DEPARTMENT)   \n",
       "2   3     ALBERT PARDINI                 CAPTAIN III (POLICE DEPARTMENT)   \n",
       "3   4  CHRISTOPHER CHONG            WIRE ROPE CABLE MAINTENANCE MECHANIC   \n",
       "4   5    PATRICK GARDNER    DEPUTY CHIEF OF DEPARTMENT,(FIRE DEPARTMENT)   \n",
       "\n",
       "     BasePay  OvertimePay   OtherPay  Benefits   TotalPay  TotalPayBenefits  \\\n",
       "0  167411.18         0.00  400184.25       NaN  567595.43         567595.43   \n",
       "1  155966.02    245131.88  137811.38       NaN  538909.28         538909.28   \n",
       "2  212739.13    106088.18   16452.60       NaN  335279.91         335279.91   \n",
       "3   77916.00     56120.71  198306.90       NaN  332343.61         332343.61   \n",
       "4  134401.60      9737.00  182234.59       NaN  326373.19         326373.19   \n",
       "\n",
       "   Year  Notes         Agency  Status  \n",
       "0  2011    NaN  San Francisco     NaN  \n",
       "1  2011    NaN  San Francisco     NaN  \n",
       "2  2011    NaN  San Francisco     NaN  \n",
       "3  2011    NaN  San Francisco     NaN  \n",
       "4  2011    NaN  San Francisco     NaN  "
      ]
     },
     "execution_count": 4,
     "metadata": {},
     "output_type": "execute_result"
    }
   ],
   "source": [
    "sal.head(5)"
   ]
  },
  {
   "cell_type": "markdown",
   "metadata": {
    "colab_type": "text",
    "id": "LgRIzJ_l9nOP"
   },
   "source": [
    "**Use the .info() method to find out how many entries there are.**"
   ]
  },
  {
   "cell_type": "code",
   "execution_count": null,
   "metadata": {},
   "outputs": [],
   "source": [
    "sal.info()"
   ]
  },
  {
   "cell_type": "markdown",
   "metadata": {},
   "source": [
    "What is the average BasePay ?"
   ]
  },
  {
   "cell_type": "code",
   "execution_count": 13,
   "metadata": {
    "colab": {},
    "colab_type": "code",
    "id": "twQu_3xj9nOS"
   },
   "outputs": [
    {
     "data": {
      "text/plain": [
       "66325.44884050643"
      ]
     },
     "execution_count": 13,
     "metadata": {},
     "output_type": "execute_result"
    }
   ],
   "source": [
    "print('The average BasePay is: ',sal['BasePay'].mean())"
   ]
  },
  {
   "cell_type": "markdown",
   "metadata": {
    "colab_type": "text",
    "id": "qQc-OERD9nOU"
   },
   "source": [
    "**What is the lowest and highest amount of BasePay?**\n",
    "\n",
    "Keyword: \n",
    "[min](https://pandas.pydata.org/pandas-docs/stable/generated/pandas.DataFrame.min.html) , \n",
    "[max](https://pandas.pydata.org/pandas-docs/stable/generated/pandas.DataFrame.max.html)"
   ]
  },
  {
   "cell_type": "code",
   "execution_count": 12,
   "metadata": {
    "colab": {},
    "colab_type": "code",
    "id": "22XKRdg49nOV"
   },
   "outputs": [
    {
     "data": {
      "text/plain": [
       "-166.01"
      ]
     },
     "execution_count": 12,
     "metadata": {},
     "output_type": "execute_result"
    }
   ],
   "source": [
    "print('The Lowest amount of BasePay is: ',sal['BasePay'].min())"
   ]
  },
  {
   "cell_type": "code",
   "execution_count": 14,
   "metadata": {
    "colab": {},
    "colab_type": "code",
    "id": "R-yPM0ZU9nOX"
   },
   "outputs": [
    {
     "data": {
      "text/plain": [
       "319275.01"
      ]
     },
     "execution_count": 14,
     "metadata": {},
     "output_type": "execute_result"
    }
   ],
   "source": [
    "print('The Highest amount of BasePay is: ',sal['BasePay'].max())"
   ]
  },
  {
   "cell_type": "markdown",
   "metadata": {
    "colab_type": "text",
    "id": "-MdkKp6U9nOa"
   },
   "source": [
    "**How about OvertimePay in the dataset? What is the average, lowest, highest amount?**"
   ]
  },
  {
   "cell_type": "code",
   "execution_count": 163,
   "metadata": {
    "colab": {},
    "colab_type": "code",
    "id": "Og2yxCil9nOb"
   },
   "outputs": [
    {
     "name": "stdout",
     "output_type": "stream",
     "text": [
      "Mean of OvertimePay is  5066.059886444622\n",
      "Max of OvertimePay is  -0.01\n",
      "Min of OvertimePay is  245131.88\n"
     ]
    }
   ],
   "source": [
    "print('Mean of OvertimePay is ',sal['OvertimePay'].mean())\n",
    "print('Max of OvertimePay is ',sal['OvertimePay'].min())\n",
    "print('Min of OvertimePay is ',sal['OvertimePay'].max())"
   ]
  },
  {
   "cell_type": "markdown",
   "metadata": {
    "colab_type": "text",
    "id": "mF0zrXXh9nOf"
   },
   "source": [
    "**What is the job title of  JOSEPH DRISCOLL ? Note: Use all caps, otherwise you may get an answer that doesn't match up (there is also a lowercase Joseph Driscoll).**"
   ]
  },
  {
   "cell_type": "code",
   "execution_count": 35,
   "metadata": {
    "colab": {},
    "colab_type": "code",
    "id": "wbqO05iu9nOh"
   },
   "outputs": [
    {
     "data": {
      "text/plain": [
       "24    CAPTAIN, FIRE SUPPRESSION\n",
       "Name: JobTitle, dtype: object"
      ]
     },
     "execution_count": 35,
     "metadata": {},
     "output_type": "execute_result"
    }
   ],
   "source": [
    "sal[sal['EmployeeName'] == \"JOSEPH DRISCOLL\"]['JobTitle']"
   ]
  },
  {
   "cell_type": "code",
   "execution_count": 40,
   "metadata": {
    "colab": {},
    "colab_type": "code",
    "id": "MwzxTlI29nOl"
   },
   "outputs": [
    {
     "data": {
      "text/html": [
       "<div>\n",
       "<style scoped>\n",
       "    .dataframe tbody tr th:only-of-type {\n",
       "        vertical-align: middle;\n",
       "    }\n",
       "\n",
       "    .dataframe tbody tr th {\n",
       "        vertical-align: top;\n",
       "    }\n",
       "\n",
       "    .dataframe thead th {\n",
       "        text-align: right;\n",
       "    }\n",
       "</style>\n",
       "<table border=\"1\" class=\"dataframe\">\n",
       "  <thead>\n",
       "    <tr style=\"text-align: right;\">\n",
       "      <th></th>\n",
       "      <th>Id</th>\n",
       "      <th>EmployeeName</th>\n",
       "      <th>JobTitle</th>\n",
       "      <th>BasePay</th>\n",
       "      <th>OvertimePay</th>\n",
       "      <th>OtherPay</th>\n",
       "      <th>Benefits</th>\n",
       "      <th>TotalPay</th>\n",
       "      <th>TotalPayBenefits</th>\n",
       "      <th>Year</th>\n",
       "      <th>Notes</th>\n",
       "      <th>Agency</th>\n",
       "      <th>Status</th>\n",
       "    </tr>\n",
       "  </thead>\n",
       "  <tbody>\n",
       "    <tr>\n",
       "      <th>1</th>\n",
       "      <td>2</td>\n",
       "      <td>GARY JIMENEZ</td>\n",
       "      <td>CAPTAIN III (POLICE DEPARTMENT)</td>\n",
       "      <td>155966.02</td>\n",
       "      <td>245131.88</td>\n",
       "      <td>137811.38</td>\n",
       "      <td>NaN</td>\n",
       "      <td>538909.28</td>\n",
       "      <td>538909.28</td>\n",
       "      <td>2011</td>\n",
       "      <td>NaN</td>\n",
       "      <td>San Francisco</td>\n",
       "      <td>NaN</td>\n",
       "    </tr>\n",
       "  </tbody>\n",
       "</table>\n",
       "</div>"
      ],
      "text/plain": [
       "   Id  EmployeeName                         JobTitle    BasePay  OvertimePay  \\\n",
       "1   2  GARY JIMENEZ  CAPTAIN III (POLICE DEPARTMENT)  155966.02    245131.88   \n",
       "\n",
       "    OtherPay  Benefits   TotalPay  TotalPayBenefits  Year  Notes  \\\n",
       "1  137811.38       NaN  538909.28         538909.28  2011    NaN   \n",
       "\n",
       "          Agency  Status  \n",
       "1  San Francisco     NaN  "
      ]
     },
     "execution_count": 40,
     "metadata": {},
     "output_type": "execute_result"
    }
   ],
   "source": [
    "# Now try to select Employees who have name \"GARY JIMENEZ\"\n",
    "# Your code here\n",
    "sal[sal['EmployeeName'] == \"GARY JIMENEZ\"]"
   ]
  },
  {
   "cell_type": "markdown",
   "metadata": {
    "colab_type": "text",
    "id": "0nrHI4iu9nOn"
   },
   "source": [
    "**How much does JOSEPH DRISCOLL make (including benefits)?**"
   ]
  },
  {
   "cell_type": "code",
   "execution_count": 42,
   "metadata": {
    "colab": {},
    "colab_type": "code",
    "id": "TUZlBSDE9nOo"
   },
   "outputs": [
    {
     "data": {
      "text/plain": [
       "24    270324.91\n",
       "Name: TotalPayBenefits, dtype: float64"
      ]
     },
     "execution_count": 42,
     "metadata": {},
     "output_type": "execute_result"
    }
   ],
   "source": [
    "sal[sal['EmployeeName'] == \"JOSEPH DRISCOLL\"]['TotalPayBenefits']"
   ]
  },
  {
   "cell_type": "markdown",
   "metadata": {
    "colab_type": "text",
    "id": "1thjd2GC9nOq"
   },
   "source": [
    "**What is the name of highest paid person (including benefits)?**"
   ]
  },
  {
   "cell_type": "code",
   "execution_count": 16,
   "metadata": {
    "colab": {},
    "colab_type": "code",
    "id": "msrq-7Ww9nOr"
   },
   "outputs": [
    {
     "name": "stdout",
     "output_type": "stream",
     "text": [
      "     EmployeeName  TotalPayBenefits\n",
      "0  NATHANIEL FORD         567595.43\n"
     ]
    }
   ],
   "source": [
    "#Solution 1 \n",
    "#---------------\n",
    "#sort dataframe by descending and get first row -> store at tmp\n",
    "tmp = sal.sort_values(by = 'TotalPayBenefits', ascending = False).head(1)\n",
    "#get two columns EmplyeeName and TotalPayBenefits\n",
    "print(tmp[['EmployeeName','TotalPayBenefits']])"
   ]
  },
  {
   "cell_type": "code",
   "execution_count": 15,
   "metadata": {},
   "outputs": [
    {
     "name": "stdout",
     "output_type": "stream",
     "text": [
      "     EmployeeName  TotalPayBenefits\n",
      "0  NATHANIEL FORD         567595.43\n"
     ]
    }
   ],
   "source": [
    "#Solution 2\n",
    "#---------------\n",
    "#Get row where there is the highest TotalPayBenefits\n",
    "tmp = sal[sal['TotalPayBenefits'] == sal['TotalPayBenefits'].max()][['EmployeeName','TotalPayBenefits']]\n",
    "print(tmp)"
   ]
  },
  {
   "cell_type": "markdown",
   "metadata": {
    "colab_type": "text",
    "id": "uF2kX93x9nOu"
   },
   "source": [
    "**What is the name of lowest paid person (including benefits)? Do you notice something strange about how much he or she is paid?**"
   ]
  },
  {
   "cell_type": "code",
   "execution_count": 17,
   "metadata": {
    "colab": {},
    "colab_type": "code",
    "id": "htAfatTl9nOv"
   },
   "outputs": [
    {
     "name": "stdout",
     "output_type": "stream",
     "text": [
      "       EmployeeName  TotalPayBenefits\n",
      "148653    Joe Lopez           -618.13\n"
     ]
    }
   ],
   "source": [
    "#Solution 1 \n",
    "#---------------\n",
    "#sort dataframe by descending and get first row -> store at tmp\n",
    "tmp = sal.sort_values(by = 'TotalPayBenefits', ascending = True).head(1)\n",
    "#get two columns EmplyeeName and TotalPayBenefits\n",
    "print(tmp[['EmployeeName','TotalPayBenefits']])"
   ]
  },
  {
   "cell_type": "code",
   "execution_count": 18,
   "metadata": {},
   "outputs": [
    {
     "name": "stdout",
     "output_type": "stream",
     "text": [
      "       EmployeeName  TotalPayBenefits\n",
      "148653    Joe Lopez           -618.13\n"
     ]
    }
   ],
   "source": [
    "#Solution 2\n",
    "#---------------\n",
    "#Get rows where there is the highest TotalPayBenefits\n",
    "tmp = sal[sal['TotalPayBenefits'] == sal['TotalPayBenefits'].min()][['EmployeeName','TotalPayBenefits']]\n",
    "print(tmp)"
   ]
  },
  {
   "cell_type": "markdown",
   "metadata": {
    "colab_type": "text",
    "id": "WB0HTvjM9nOx"
   },
   "source": [
    "**What was the average (mean) BasePay of all employees per year? (2011-2014) ?**\n",
    "Keyword: _groupby_"
   ]
  },
  {
   "cell_type": "code",
   "execution_count": 20,
   "metadata": {
    "colab": {},
    "colab_type": "code",
    "id": "6Y5mUYir9nOy"
   },
   "outputs": [
    {
     "data": {
      "text/plain": [
       "Year\n",
       "2011    63595.956517\n",
       "2012    65436.406857\n",
       "2013    69630.030216\n",
       "2014    66564.421924\n",
       "Name: BasePay, dtype: float64"
      ]
     },
     "execution_count": 20,
     "metadata": {},
     "output_type": "execute_result"
    }
   ],
   "source": [
    "sal.groupby('Year')['BasePay'].mean()"
   ]
  },
  {
   "cell_type": "markdown",
   "metadata": {
    "colab_type": "text",
    "id": "k8Qzx9MD9nO0"
   },
   "source": [
    "**How many unique job titles are there?**\n",
    "\n",
    "Keyword: _unique, nunique_"
   ]
  },
  {
   "cell_type": "code",
   "execution_count": 25,
   "metadata": {
    "colab": {},
    "colab_type": "code",
    "id": "mvzwZ5Mb9nO1"
   },
   "outputs": [
    {
     "data": {
      "text/plain": [
       "2159"
      ]
     },
     "execution_count": 25,
     "metadata": {},
     "output_type": "execute_result"
    }
   ],
   "source": [
    "sal['JobTitle'].unique().shape[0]"
   ]
  },
  {
   "cell_type": "markdown",
   "metadata": {
    "colab_type": "text",
    "id": "0dkyZe-39nO4"
   },
   "source": [
    "**What are the top 5 most common jobs?**\n",
    "\n",
    "Keyword: *value_counts*"
   ]
  },
  {
   "cell_type": "code",
   "execution_count": 53,
   "metadata": {
    "colab": {},
    "colab_type": "code",
    "id": "PVSDr3Ww9nO7"
   },
   "outputs": [
    {
     "data": {
      "text/plain": [
       "Transit Operator                7036\n",
       "Special Nurse                   4389\n",
       "Registered Nurse                3736\n",
       "Public Svc Aide-Public Works    2518\n",
       "Police Officer 3                2421\n",
       "Name: JobTitle, dtype: int64"
      ]
     },
     "execution_count": 53,
     "metadata": {},
     "output_type": "execute_result"
    }
   ],
   "source": [
    "tmp = sal['JobTitle'].value_counts(sort = True).head(5)\n",
    "tmp"
   ]
  },
  {
   "cell_type": "markdown",
   "metadata": {
    "colab_type": "text",
    "id": "25fCX21U9nO-"
   },
   "source": [
    "**How many Job Titles were represented by only one person in 2013? (e.g. Job Titles with only one occurence in 2013?)**"
   ]
  },
  {
   "cell_type": "code",
   "execution_count": 101,
   "metadata": {
    "colab": {},
    "colab_type": "code",
    "id": "e9vr6BKD9nPA"
   },
   "outputs": [
    {
     "data": {
      "text/plain": [
       "202"
      ]
     },
     "execution_count": 101,
     "metadata": {},
     "output_type": "execute_result"
    }
   ],
   "source": [
    "year13 = sal[sal['Year'] == 2013] #extract rows that have value of year == 2k13\n",
    "countJobUnique = year13.groupby(['JobTitle']) #Group by JobTitle \n",
    "tmp = countJobUnique.size() #calculate size \n",
    "result = tmp[tmp==1] #take row with size == 1\n",
    "result.size"
   ]
  },
  {
   "cell_type": "markdown",
   "metadata": {
    "colab_type": "text",
    "id": "HoiNghja9nPD"
   },
   "source": [
    "**How many people have the word Chief in their job title?**"
   ]
  },
  {
   "cell_type": "code",
   "execution_count": 138,
   "metadata": {
    "colab": {},
    "colab_type": "code",
    "id": "mBc0hzan9nPE"
   },
   "outputs": [
    {
     "name": "stdout",
     "output_type": "stream",
     "text": [
      "The number of rows that JobTitle\"s value has \"Chief\" is 423\n"
     ]
    }
   ],
   "source": [
    "def checkChiefIn(s): #function check: Is Chief in str.... ? \n",
    "    if s.find('Chief') != -1:\n",
    "        return True\n",
    "    return False\n",
    "\n",
    "count = 0 #Initiate variable count for counting\n",
    "for i in range(sal.shape[0]):\n",
    "    if checkChiefIn(sal.at[i,'JobTitle']) == True:\n",
    "        count+=1\n",
    "        \n",
    "print('The number of rows that JobTitle\"s value has \"Chief\" is',count)#print Output "
   ]
  },
  {
   "cell_type": "markdown",
   "metadata": {
    "colab_type": "text",
    "id": "5G094gws9nPL"
   },
   "source": [
    "## Data Visualization\n",
    "\n",
    "**Implement seaborn's countplot with x='Year'**"
   ]
  },
  {
   "cell_type": "code",
   "execution_count": 140,
   "metadata": {
    "colab": {},
    "colab_type": "code",
    "id": "56GKG4UD9nPM"
   },
   "outputs": [
    {
     "data": {
      "text/plain": [
       "<matplotlib.axes._subplots.AxesSubplot at 0x126fb1ba8>"
      ]
     },
     "execution_count": 140,
     "metadata": {},
     "output_type": "execute_result"
    },
    {
     "data": {
      "image/png": "[encoded data removed]",
      "text/plain": [
       "<Figure size 432x288 with 1 Axes>"
      ]
     },
     "metadata": {
      "needs_background": "light"
     },
     "output_type": "display_data"
    }
   ],
   "source": [
    "sb.countplot(x='Year', data=sal)"
   ]
  },
  {
   "cell_type": "markdown",
   "metadata": {
    "colab_type": "text",
    "id": "orQACfVP9nPP"
   },
   "source": [
    "**Implement seaborn's distplot for BasePay of Year 2011**"
   ]
  },
  {
   "cell_type": "code",
   "execution_count": 161,
   "metadata": {
    "colab": {},
    "colab_type": "code",
    "id": "JYPrrLW19nPQ"
   },
   "outputs": [
    {
     "data": {
      "text/plain": [
       "<matplotlib.axes._subplots.AxesSubplot at 0x12758a9e8>"
      ]
     },
     "execution_count": 161,
     "metadata": {},
     "output_type": "execute_result"
    },
    {
     "data": {
      "image/png": "[encoded data removed]",
      "text/plain": [
       "<Figure size 432x288 with 1 Axes>"
      ]
     },
     "metadata": {
      "needs_background": "light"
     },
     "output_type": "display_data"
    }
   ],
   "source": [
    "tmp = sal[sal['Year'] == 2011]\n",
    "sb.distplot(tmp['BasePay'])"
   ]
  },
  {
   "cell_type": "markdown",
   "metadata": {
    "colab_type": "text",
    "id": "Ea9OFiqK9nPS"
   },
   "source": [
    "**How about other Year**"
   ]
  },
  {
   "cell_type": "code",
   "execution_count": 162,
   "metadata": {
    "colab": {},
    "colab_type": "code",
    "id": "orRMn0X89nPT"
   },
   "outputs": [
    {
     "data": {
      "text/plain": [
       "<matplotlib.axes._subplots.AxesSubplot at 0x1a2c0c4f60>"
      ]
     },
     "execution_count": 162,
     "metadata": {},
     "output_type": "execute_result"
    },
    {
     "data": {
      "image/png": "[encoded data removed]",
      "text/plain": [
       "<Figure size 432x288 with 1 Axes>"
      ]
     },
     "metadata": {
      "needs_background": "light"
     },
     "output_type": "display_data"
    }
   ],
   "source": [
    "tmp = sal[sal['BasePay'].notnull()]\n",
    "tmp = tmp[tmp['Year']!=2011]\n",
    "sb.distplot(tmp['BasePay'])"
   ]
  },
  {
   "cell_type": "markdown",
   "metadata": {
    "colab_type": "text",
    "id": "00EkkG_s9nPV"
   },
   "source": [
    "## Bonus\n",
    "\n",
    "**Visualize top 5 Jobs with BasePay, Benefits and OvertimePay**\n",
    "\n",
    "Keyword: *index, isin, groupby, mean, plot*"
   ]
  },
  {
   "cell_type": "code",
   "execution_count": 10,
   "metadata": {
    "colab": {},
    "colab_type": "code",
    "id": "LoZm87Bu9nPV"
   },
   "outputs": [
    {
     "data": {
      "text/plain": [
       "<matplotlib.axes._subplots.AxesSubplot at 0x1a1b4357f0>"
      ]
     },
     "execution_count": 10,
     "metadata": {},
     "output_type": "execute_result"
    },
    {
     "data": {
      "image/png": "[encoded data removed]",
      "text/plain": [
       "<Figure size 432x288 with 1 Axes>"
      ]
     },
     "metadata": {
      "needs_background": "light"
     },
     "output_type": "display_data"
    }
   ],
   "source": [
    "groupJobTitle = sal.groupby('JobTitle').mean()\n",
    "indexJob = sal['JobTitle'].value_counts().head(5).index\n",
    "result = groupJobTitle[groupJobTitle.index.isin(indexJob)][['BasePay','Benefits','OvertimePay']]\n",
    "result.plot(kind = 'bar')"
   ]
  },
  {
   "cell_type": "markdown",
   "metadata": {
    "colab_type": "text",
    "id": "V2Lz3SGu9nPc"
   },
   "source": [
    "**Fun Fact: Is there a correlation between length of the Job Title string and Salary?**\n",
    "\n",
    "*Hint: corr()*"
   ]
  },
  {
   "cell_type": "code",
   "execution_count": 15,
   "metadata": {
    "colab": {},
    "colab_type": "code",
    "id": "CgcrtPdJ9nPd"
   },
   "outputs": [
    {
     "data": {
      "text/html": [
       "<div>\n",
       "<style scoped>\n",
       "    .dataframe tbody tr th:only-of-type {\n",
       "        vertical-align: middle;\n",
       "    }\n",
       "\n",
       "    .dataframe tbody tr th {\n",
       "        vertical-align: top;\n",
       "    }\n",
       "\n",
       "    .dataframe thead th {\n",
       "        text-align: right;\n",
       "    }\n",
       "</style>\n",
       "<table border=\"1\" class=\"dataframe\">\n",
       "  <thead>\n",
       "    <tr style=\"text-align: right;\">\n",
       "      <th></th>\n",
       "      <th>Id</th>\n",
       "      <th>BasePay</th>\n",
       "      <th>OvertimePay</th>\n",
       "      <th>OtherPay</th>\n",
       "      <th>Benefits</th>\n",
       "      <th>TotalPay</th>\n",
       "      <th>TotalPayBenefits</th>\n",
       "      <th>Year</th>\n",
       "      <th>Notes</th>\n",
       "      <th>Status</th>\n",
       "      <th>lenOfJobTitle</th>\n",
       "    </tr>\n",
       "  </thead>\n",
       "  <tbody>\n",
       "    <tr>\n",
       "      <th>Id</th>\n",
       "      <td>1.000000</td>\n",
       "      <td>-0.204878</td>\n",
       "      <td>-0.081505</td>\n",
       "      <td>-0.100403</td>\n",
       "      <td>-0.348957</td>\n",
       "      <td>-0.211478</td>\n",
       "      <td>-0.092190</td>\n",
       "      <td>0.968171</td>\n",
       "      <td>NaN</td>\n",
       "      <td>NaN</td>\n",
       "      <td>-0.085332</td>\n",
       "    </tr>\n",
       "    <tr>\n",
       "      <th>BasePay</th>\n",
       "      <td>-0.204878</td>\n",
       "      <td>1.000000</td>\n",
       "      <td>0.266740</td>\n",
       "      <td>0.285655</td>\n",
       "      <td>0.918028</td>\n",
       "      <td>0.954494</td>\n",
       "      <td>0.946595</td>\n",
       "      <td>0.033751</td>\n",
       "      <td>NaN</td>\n",
       "      <td>NaN</td>\n",
       "      <td>-0.005059</td>\n",
       "    </tr>\n",
       "    <tr>\n",
       "      <th>OvertimePay</th>\n",
       "      <td>-0.081505</td>\n",
       "      <td>0.266740</td>\n",
       "      <td>1.000000</td>\n",
       "      <td>0.316592</td>\n",
       "      <td>0.301207</td>\n",
       "      <td>0.504859</td>\n",
       "      <td>0.467981</td>\n",
       "      <td>0.027887</td>\n",
       "      <td>NaN</td>\n",
       "      <td>NaN</td>\n",
       "      <td>-0.017172</td>\n",
       "    </tr>\n",
       "    <tr>\n",
       "      <th>OtherPay</th>\n",
       "      <td>-0.100403</td>\n",
       "      <td>0.285655</td>\n",
       "      <td>0.316592</td>\n",
       "      <td>1.000000</td>\n",
       "      <td>0.233178</td>\n",
       "      <td>0.470496</td>\n",
       "      <td>0.422341</td>\n",
       "      <td>-0.002499</td>\n",
       "      <td>NaN</td>\n",
       "      <td>NaN</td>\n",
       "      <td>-0.042587</td>\n",
       "    </tr>\n",
       "    <tr>\n",
       "      <th>Benefits</th>\n",
       "      <td>-0.348957</td>\n",
       "      <td>0.918028</td>\n",
       "      <td>0.301207</td>\n",
       "      <td>0.233178</td>\n",
       "      <td>1.000000</td>\n",
       "      <td>0.884097</td>\n",
       "      <td>0.930140</td>\n",
       "      <td>-0.043136</td>\n",
       "      <td>NaN</td>\n",
       "      <td>NaN</td>\n",
       "      <td>-0.021469</td>\n",
       "    </tr>\n",
       "    <tr>\n",
       "      <th>TotalPay</th>\n",
       "      <td>-0.211478</td>\n",
       "      <td>0.954494</td>\n",
       "      <td>0.504859</td>\n",
       "      <td>0.470496</td>\n",
       "      <td>0.884097</td>\n",
       "      <td>1.000000</td>\n",
       "      <td>0.977313</td>\n",
       "      <td>0.032090</td>\n",
       "      <td>NaN</td>\n",
       "      <td>NaN</td>\n",
       "      <td>-0.015356</td>\n",
       "    </tr>\n",
       "    <tr>\n",
       "      <th>TotalPayBenefits</th>\n",
       "      <td>-0.092190</td>\n",
       "      <td>0.946595</td>\n",
       "      <td>0.467981</td>\n",
       "      <td>0.422341</td>\n",
       "      <td>0.930140</td>\n",
       "      <td>0.977313</td>\n",
       "      <td>1.000000</td>\n",
       "      <td>0.151947</td>\n",
       "      <td>NaN</td>\n",
       "      <td>NaN</td>\n",
       "      <td>-0.036878</td>\n",
       "    </tr>\n",
       "    <tr>\n",
       "      <th>Year</th>\n",
       "      <td>0.968171</td>\n",
       "      <td>0.033751</td>\n",
       "      <td>0.027887</td>\n",
       "      <td>-0.002499</td>\n",
       "      <td>-0.043136</td>\n",
       "      <td>0.032090</td>\n",
       "      <td>0.151947</td>\n",
       "      <td>1.000000</td>\n",
       "      <td>NaN</td>\n",
       "      <td>NaN</td>\n",
       "      <td>-0.088883</td>\n",
       "    </tr>\n",
       "    <tr>\n",
       "      <th>Notes</th>\n",
       "      <td>NaN</td>\n",
       "      <td>NaN</td>\n",
       "      <td>NaN</td>\n",
       "      <td>NaN</td>\n",
       "      <td>NaN</td>\n",
       "      <td>NaN</td>\n",
       "      <td>NaN</td>\n",
       "      <td>NaN</td>\n",
       "      <td>NaN</td>\n",
       "      <td>NaN</td>\n",
       "      <td>NaN</td>\n",
       "    </tr>\n",
       "    <tr>\n",
       "      <th>Status</th>\n",
       "      <td>NaN</td>\n",
       "      <td>NaN</td>\n",
       "      <td>NaN</td>\n",
       "      <td>NaN</td>\n",
       "      <td>NaN</td>\n",
       "      <td>NaN</td>\n",
       "      <td>NaN</td>\n",
       "      <td>NaN</td>\n",
       "      <td>NaN</td>\n",
       "      <td>NaN</td>\n",
       "      <td>NaN</td>\n",
       "    </tr>\n",
       "    <tr>\n",
       "      <th>lenOfJobTitle</th>\n",
       "      <td>-0.085332</td>\n",
       "      <td>-0.005059</td>\n",
       "      <td>-0.017172</td>\n",
       "      <td>-0.042587</td>\n",
       "      <td>-0.021469</td>\n",
       "      <td>-0.015356</td>\n",
       "      <td>-0.036878</td>\n",
       "      <td>-0.088883</td>\n",
       "      <td>NaN</td>\n",
       "      <td>NaN</td>\n",
       "      <td>1.000000</td>\n",
       "    </tr>\n",
       "  </tbody>\n",
       "</table>\n",
       "</div>"
      ],
      "text/plain": [
       "                        Id   BasePay  OvertimePay  OtherPay  Benefits  \\\n",
       "Id                1.000000 -0.204878    -0.081505 -0.100403 -0.348957   \n",
       "BasePay          -0.204878  1.000000     0.266740  0.285655  0.918028   \n",
       "OvertimePay      -0.081505  0.266740     1.000000  0.316592  0.301207   \n",
       "OtherPay         -0.100403  0.285655     0.316592  1.000000  0.233178   \n",
       "Benefits         -0.348957  0.918028     0.301207  0.233178  1.000000   \n",
       "TotalPay         -0.211478  0.954494     0.504859  0.470496  0.884097   \n",
       "TotalPayBenefits -0.092190  0.946595     0.467981  0.422341  0.930140   \n",
       "Year              0.968171  0.033751     0.027887 -0.002499 -0.043136   \n",
       "Notes                  NaN       NaN          NaN       NaN       NaN   \n",
       "Status                 NaN       NaN          NaN       NaN       NaN   \n",
       "lenOfJobTitle    -0.085332 -0.005059    -0.017172 -0.042587 -0.021469   \n",
       "\n",
       "                  TotalPay  TotalPayBenefits      Year  Notes  Status  \\\n",
       "Id               -0.211478         -0.092190  0.968171    NaN     NaN   \n",
       "BasePay           0.954494          0.946595  0.033751    NaN     NaN   \n",
       "OvertimePay       0.504859          0.467981  0.027887    NaN     NaN   \n",
       "OtherPay          0.470496          0.422341 -0.002499    NaN     NaN   \n",
       "Benefits          0.884097          0.930140 -0.043136    NaN     NaN   \n",
       "TotalPay          1.000000          0.977313  0.032090    NaN     NaN   \n",
       "TotalPayBenefits  0.977313          1.000000  0.151947    NaN     NaN   \n",
       "Year              0.032090          0.151947  1.000000    NaN     NaN   \n",
       "Notes                  NaN               NaN       NaN    NaN     NaN   \n",
       "Status                 NaN               NaN       NaN    NaN     NaN   \n",
       "lenOfJobTitle    -0.015356         -0.036878 -0.088883    NaN     NaN   \n",
       "\n",
       "                  lenOfJobTitle  \n",
       "Id                    -0.085332  \n",
       "BasePay               -0.005059  \n",
       "OvertimePay           -0.017172  \n",
       "OtherPay              -0.042587  \n",
       "Benefits              -0.021469  \n",
       "TotalPay              -0.015356  \n",
       "TotalPayBenefits      -0.036878  \n",
       "Year                  -0.088883  \n",
       "Notes                       NaN  \n",
       "Status                      NaN  \n",
       "lenOfJobTitle          1.000000  "
      ]
     },
     "execution_count": 15,
     "metadata": {},
     "output_type": "execute_result"
    }
   ],
   "source": [
    "for i in range(sal.shape[0]):\n",
    "    sal.at[i,'lenOfJobTitle'] = len(sal.at[i,'JobTitle'])\n",
    "sal.corr()\n",
    "#arcoding output table->answer is YES"
   ]
  },
  {
   "cell_type": "markdown",
   "metadata": {
    "colab_type": "text",
    "id": "gY4kMupD9nPg"
   },
   "source": [
    "# Great Job!"
   ]
  }
 ],
 "metadata": {
  "colab": {
   "collapsed_sections": [],
   "name": "DAwP_Assignment_2.ipynb",
   "provenance": []
  },
  "kernelspec": {
   "display_name": "Python 3",
   "language": "python",
   "name": "python3"
  },
  "language_info": {
   "codemirror_mode": {
    "name": "ipython",
    "version": 3
   },
   "file_extension": ".py",
   "mimetype": "text/x-python",
   "name": "python",
   "nbconvert_exporter": "python",
   "pygments_lexer": "ipython3",
   "version": "3.7.3"
  }
 },
 "nbformat": 4,
 "nbformat_minor": 4
}
